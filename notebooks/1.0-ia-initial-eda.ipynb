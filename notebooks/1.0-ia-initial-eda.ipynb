{
 "cells": [
  {
   "cell_type": "code",
   "execution_count": 6,
   "id": "initial_id",
   "metadata": {
    "collapsed": true,
    "ExecuteTime": {
     "end_time": "2023-09-22T08:29:43.199684200Z",
     "start_time": "2023-09-22T08:29:42.520597100Z"
    }
   },
   "outputs": [],
   "source": [
    "import pandas as pd\n",
    "import numpy as np\n",
    "import seaborn as sns"
   ]
  },
  {
   "cell_type": "code",
   "execution_count": 4,
   "outputs": [
    {
     "data": {
      "text/plain": "   passenger_count  trip_distance  pickup_longitude  pickup_latitude  \\\n0                1           1.00        -73.962883        40.766521   \n1                1           1.15        -74.006599        40.744186   \n2                6           3.00        -73.989113        40.758263   \n3                1           1.11        -73.994087        40.751228   \n4                2           2.34        -73.982079        40.746006   \n\n   ratecodeid store_and_fwd_flag  dropoff_longitude  dropoff_latitude  \\\n0           1                  N         -73.975868         40.763676   \n1           1                  N         -73.994347         40.754211   \n2           1                  N         -73.992310         40.725040   \n3           1                  N         -73.981529         40.758717   \n4           1                  N         -73.962326         40.774628   \n\n   fare_amount  extra  mta_tax  tip_amount  tolls_amount  total_amount  \\\n0          6.0    0.0      0.5        1.00           0.0          7.80   \n1          6.5    0.0      0.5        0.00           0.0          7.30   \n2         15.0    1.0      0.5        3.36           0.0         20.16   \n3         11.0    0.0      0.5        2.95           0.0         14.75   \n4         11.0    0.5      0.5        3.08           0.0         15.38   \n\n   vendor_id     pickup_datetime    dropoff_datetime  payment_type  \\\n0          1 2015-08-26 06:35:08 2015-08-26 06:40:55             1   \n1          2 2015-08-22 17:25:04 2015-08-22 17:31:04             2   \n2          2 2015-08-25 17:07:03 2015-08-25 17:28:22             1   \n3          2 2015-08-03 11:32:22 2015-08-03 11:48:59             1   \n4          2 2015-08-07 21:33:16 2015-08-07 21:44:54             1   \n\n   imp_surcharge  \n0            0.3  \n1            0.3  \n2            0.3  \n3            0.3  \n4            0.3  ",
      "text/html": "<div>\n<style scoped>\n    .dataframe tbody tr th:only-of-type {\n        vertical-align: middle;\n    }\n\n    .dataframe tbody tr th {\n        vertical-align: top;\n    }\n\n    .dataframe thead th {\n        text-align: right;\n    }\n</style>\n<table border=\"1\" class=\"dataframe\">\n  <thead>\n    <tr style=\"text-align: right;\">\n      <th></th>\n      <th>passenger_count</th>\n      <th>trip_distance</th>\n      <th>pickup_longitude</th>\n      <th>pickup_latitude</th>\n      <th>ratecodeid</th>\n      <th>store_and_fwd_flag</th>\n      <th>dropoff_longitude</th>\n      <th>dropoff_latitude</th>\n      <th>fare_amount</th>\n      <th>extra</th>\n      <th>mta_tax</th>\n      <th>tip_amount</th>\n      <th>tolls_amount</th>\n      <th>total_amount</th>\n      <th>vendor_id</th>\n      <th>pickup_datetime</th>\n      <th>dropoff_datetime</th>\n      <th>payment_type</th>\n      <th>imp_surcharge</th>\n    </tr>\n  </thead>\n  <tbody>\n    <tr>\n      <th>0</th>\n      <td>1</td>\n      <td>1.00</td>\n      <td>-73.962883</td>\n      <td>40.766521</td>\n      <td>1</td>\n      <td>N</td>\n      <td>-73.975868</td>\n      <td>40.763676</td>\n      <td>6.0</td>\n      <td>0.0</td>\n      <td>0.5</td>\n      <td>1.00</td>\n      <td>0.0</td>\n      <td>7.80</td>\n      <td>1</td>\n      <td>2015-08-26 06:35:08</td>\n      <td>2015-08-26 06:40:55</td>\n      <td>1</td>\n      <td>0.3</td>\n    </tr>\n    <tr>\n      <th>1</th>\n      <td>1</td>\n      <td>1.15</td>\n      <td>-74.006599</td>\n      <td>40.744186</td>\n      <td>1</td>\n      <td>N</td>\n      <td>-73.994347</td>\n      <td>40.754211</td>\n      <td>6.5</td>\n      <td>0.0</td>\n      <td>0.5</td>\n      <td>0.00</td>\n      <td>0.0</td>\n      <td>7.30</td>\n      <td>2</td>\n      <td>2015-08-22 17:25:04</td>\n      <td>2015-08-22 17:31:04</td>\n      <td>2</td>\n      <td>0.3</td>\n    </tr>\n    <tr>\n      <th>2</th>\n      <td>6</td>\n      <td>3.00</td>\n      <td>-73.989113</td>\n      <td>40.758263</td>\n      <td>1</td>\n      <td>N</td>\n      <td>-73.992310</td>\n      <td>40.725040</td>\n      <td>15.0</td>\n      <td>1.0</td>\n      <td>0.5</td>\n      <td>3.36</td>\n      <td>0.0</td>\n      <td>20.16</td>\n      <td>2</td>\n      <td>2015-08-25 17:07:03</td>\n      <td>2015-08-25 17:28:22</td>\n      <td>1</td>\n      <td>0.3</td>\n    </tr>\n    <tr>\n      <th>3</th>\n      <td>1</td>\n      <td>1.11</td>\n      <td>-73.994087</td>\n      <td>40.751228</td>\n      <td>1</td>\n      <td>N</td>\n      <td>-73.981529</td>\n      <td>40.758717</td>\n      <td>11.0</td>\n      <td>0.0</td>\n      <td>0.5</td>\n      <td>2.95</td>\n      <td>0.0</td>\n      <td>14.75</td>\n      <td>2</td>\n      <td>2015-08-03 11:32:22</td>\n      <td>2015-08-03 11:48:59</td>\n      <td>1</td>\n      <td>0.3</td>\n    </tr>\n    <tr>\n      <th>4</th>\n      <td>2</td>\n      <td>2.34</td>\n      <td>-73.982079</td>\n      <td>40.746006</td>\n      <td>1</td>\n      <td>N</td>\n      <td>-73.962326</td>\n      <td>40.774628</td>\n      <td>11.0</td>\n      <td>0.5</td>\n      <td>0.5</td>\n      <td>3.08</td>\n      <td>0.0</td>\n      <td>15.38</td>\n      <td>2</td>\n      <td>2015-08-07 21:33:16</td>\n      <td>2015-08-07 21:44:54</td>\n      <td>1</td>\n      <td>0.3</td>\n    </tr>\n  </tbody>\n</table>\n</div>"
     },
     "execution_count": 4,
     "metadata": {},
     "output_type": "execute_result"
    }
   ],
   "source": [
    "df = pd.read_parquet('../data/raw/final_taxi_data.parquet')\n",
    "df.head()"
   ],
   "metadata": {
    "collapsed": false,
    "ExecuteTime": {
     "end_time": "2023-09-22T08:28:21.369082400Z",
     "start_time": "2023-09-22T08:28:21.132709900Z"
    }
   },
   "id": "fb4f4c54d043c744"
  },
  {
   "cell_type": "code",
   "execution_count": 5,
   "outputs": [
    {
     "name": "stdout",
     "output_type": "stream",
     "text": [
      "<class 'pandas.core.frame.DataFrame'>\n",
      "Index: 100594 entries, 0 to 100937\n",
      "Data columns (total 19 columns):\n",
      " #   Column              Non-Null Count   Dtype         \n",
      "---  ------              --------------   -----         \n",
      " 0   passenger_count     100594 non-null  int8          \n",
      " 1   trip_distance       100594 non-null  float32       \n",
      " 2   pickup_longitude    100594 non-null  float64       \n",
      " 3   pickup_latitude     100594 non-null  float64       \n",
      " 4   ratecodeid          100594 non-null  int8          \n",
      " 5   store_and_fwd_flag  100594 non-null  category      \n",
      " 6   dropoff_longitude   100594 non-null  float64       \n",
      " 7   dropoff_latitude    100594 non-null  float64       \n",
      " 8   fare_amount         100594 non-null  float32       \n",
      " 9   extra               100594 non-null  float32       \n",
      " 10  mta_tax             100594 non-null  float32       \n",
      " 11  tip_amount          100594 non-null  float32       \n",
      " 12  tolls_amount        100594 non-null  float32       \n",
      " 13  total_amount        100594 non-null  float32       \n",
      " 14  vendor_id           100594 non-null  int8          \n",
      " 15  pickup_datetime     100594 non-null  datetime64[us]\n",
      " 16  dropoff_datetime    100594 non-null  datetime64[us]\n",
      " 17  payment_type        100594 non-null  int8          \n",
      " 18  imp_surcharge       100594 non-null  float32       \n",
      "dtypes: category(1), datetime64[us](2), float32(8), float64(4), int8(4)\n",
      "memory usage: 8.9 MB\n"
     ]
    }
   ],
   "source": [
    "df.info()"
   ],
   "metadata": {
    "collapsed": false,
    "ExecuteTime": {
     "end_time": "2023-09-22T08:28:29.214921400Z",
     "start_time": "2023-09-22T08:28:29.167691500Z"
    }
   },
   "id": "63ee2e5d613b8342"
  },
  {
   "cell_type": "code",
   "execution_count": 12,
   "outputs": [
    {
     "data": {
      "text/plain": "       passenger_count  trip_distance  pickup_longitude  pickup_latitude  \\\ncount    100594.000000  100594.000000     100594.000000    100594.000000   \nmean          1.695121       3.109172        -72.925411        40.171771   \nmin           0.000000       0.000000        -74.296989         0.000000   \n25%           1.000000       1.050000        -73.992393        40.734692   \n50%           1.000000       1.800000        -73.982269        40.751766   \n75%           2.000000       3.340000        -73.968094        40.765396   \nmax           6.000000     170.500000          0.000000        41.102951   \nstd           1.341564       3.843871          8.741989         4.815621   \n\n          ratecodeid  dropoff_longitude  dropoff_latitude    fare_amount  \\\ncount  100594.000000      100594.000000     100594.000000  100594.000000   \nmean        1.043323         -73.021807         40.226658      13.078897   \nmin         1.000000         -74.552559          0.000000     -80.000000   \n25%         1.000000         -73.991562         40.733700       6.500000   \n50%         1.000000         -73.980400         40.752460       9.500000   \n75%         1.000000         -73.963013         40.766872      15.000000   \nmax        99.000000           0.000000         41.497978     340.000000   \nstd         0.426653           8.335245          4.590389      11.231456   \n\n               extra        mta_tax     tip_amount   tolls_amount  \\\ncount  100594.000000  100594.000000  100594.000000  100594.000000   \nmean        0.320829       0.497395       1.664909       0.335058   \nmin        -1.000000      -0.500000       0.000000       0.000000   \n25%         0.000000       0.500000       0.000000       0.000000   \n50%         0.000000       0.500000       1.050000       0.000000   \n75%         0.500000       0.500000       2.250000       0.000000   \nmax         1.500000       0.500000     266.000000     450.000000   \nstd         0.362087       0.038528       2.632934       2.108463   \n\n        total_amount      vendor_id             pickup_datetime  \\\ncount  100594.000000  100594.000000                      100594   \nmean       16.197086       1.528849  2015-08-16 08:58:29.010160   \nmin       -80.300003       1.000000         2015-08-01 00:00:44   \n25%         8.750000       1.000000         2015-08-08 11:52:22   \n50%        11.800000       2.000000  2015-08-16 03:10:56.500000   \n75%        17.799999       2.000000  2015-08-23 22:50:20.250000   \nmax       450.309998       2.000000         2015-08-31 23:59:42   \nstd        13.731123       0.499170                         NaN   \n\n                 dropoff_datetime   payment_type  imp_surcharge  \ncount                      100594  100594.000000  100594.000000  \nmean   2015-08-16 09:13:18.442004       1.394636       0.299714  \nmin           2015-08-01 00:05:09       1.000000      -0.300000  \n25%           2015-08-08 12:07:27       1.000000       0.300000  \n50%    2015-08-16 03:21:16.500000       1.000000       0.300000  \n75%    2015-08-23 23:04:43.750000       2.000000       0.300000  \nmax           2015-09-01 00:31:53       4.000000       0.300000  \nstd                           NaN       0.504330       0.012474  ",
      "text/html": "<div>\n<style scoped>\n    .dataframe tbody tr th:only-of-type {\n        vertical-align: middle;\n    }\n\n    .dataframe tbody tr th {\n        vertical-align: top;\n    }\n\n    .dataframe thead th {\n        text-align: right;\n    }\n</style>\n<table border=\"1\" class=\"dataframe\">\n  <thead>\n    <tr style=\"text-align: right;\">\n      <th></th>\n      <th>passenger_count</th>\n      <th>trip_distance</th>\n      <th>pickup_longitude</th>\n      <th>pickup_latitude</th>\n      <th>ratecodeid</th>\n      <th>dropoff_longitude</th>\n      <th>dropoff_latitude</th>\n      <th>fare_amount</th>\n      <th>extra</th>\n      <th>mta_tax</th>\n      <th>tip_amount</th>\n      <th>tolls_amount</th>\n      <th>total_amount</th>\n      <th>vendor_id</th>\n      <th>pickup_datetime</th>\n      <th>dropoff_datetime</th>\n      <th>payment_type</th>\n      <th>imp_surcharge</th>\n    </tr>\n  </thead>\n  <tbody>\n    <tr>\n      <th>count</th>\n      <td>100594.000000</td>\n      <td>100594.000000</td>\n      <td>100594.000000</td>\n      <td>100594.000000</td>\n      <td>100594.000000</td>\n      <td>100594.000000</td>\n      <td>100594.000000</td>\n      <td>100594.000000</td>\n      <td>100594.000000</td>\n      <td>100594.000000</td>\n      <td>100594.000000</td>\n      <td>100594.000000</td>\n      <td>100594.000000</td>\n      <td>100594.000000</td>\n      <td>100594</td>\n      <td>100594</td>\n      <td>100594.000000</td>\n      <td>100594.000000</td>\n    </tr>\n    <tr>\n      <th>mean</th>\n      <td>1.695121</td>\n      <td>3.109172</td>\n      <td>-72.925411</td>\n      <td>40.171771</td>\n      <td>1.043323</td>\n      <td>-73.021807</td>\n      <td>40.226658</td>\n      <td>13.078897</td>\n      <td>0.320829</td>\n      <td>0.497395</td>\n      <td>1.664909</td>\n      <td>0.335058</td>\n      <td>16.197086</td>\n      <td>1.528849</td>\n      <td>2015-08-16 08:58:29.010160</td>\n      <td>2015-08-16 09:13:18.442004</td>\n      <td>1.394636</td>\n      <td>0.299714</td>\n    </tr>\n    <tr>\n      <th>min</th>\n      <td>0.000000</td>\n      <td>0.000000</td>\n      <td>-74.296989</td>\n      <td>0.000000</td>\n      <td>1.000000</td>\n      <td>-74.552559</td>\n      <td>0.000000</td>\n      <td>-80.000000</td>\n      <td>-1.000000</td>\n      <td>-0.500000</td>\n      <td>0.000000</td>\n      <td>0.000000</td>\n      <td>-80.300003</td>\n      <td>1.000000</td>\n      <td>2015-08-01 00:00:44</td>\n      <td>2015-08-01 00:05:09</td>\n      <td>1.000000</td>\n      <td>-0.300000</td>\n    </tr>\n    <tr>\n      <th>25%</th>\n      <td>1.000000</td>\n      <td>1.050000</td>\n      <td>-73.992393</td>\n      <td>40.734692</td>\n      <td>1.000000</td>\n      <td>-73.991562</td>\n      <td>40.733700</td>\n      <td>6.500000</td>\n      <td>0.000000</td>\n      <td>0.500000</td>\n      <td>0.000000</td>\n      <td>0.000000</td>\n      <td>8.750000</td>\n      <td>1.000000</td>\n      <td>2015-08-08 11:52:22</td>\n      <td>2015-08-08 12:07:27</td>\n      <td>1.000000</td>\n      <td>0.300000</td>\n    </tr>\n    <tr>\n      <th>50%</th>\n      <td>1.000000</td>\n      <td>1.800000</td>\n      <td>-73.982269</td>\n      <td>40.751766</td>\n      <td>1.000000</td>\n      <td>-73.980400</td>\n      <td>40.752460</td>\n      <td>9.500000</td>\n      <td>0.000000</td>\n      <td>0.500000</td>\n      <td>1.050000</td>\n      <td>0.000000</td>\n      <td>11.800000</td>\n      <td>2.000000</td>\n      <td>2015-08-16 03:10:56.500000</td>\n      <td>2015-08-16 03:21:16.500000</td>\n      <td>1.000000</td>\n      <td>0.300000</td>\n    </tr>\n    <tr>\n      <th>75%</th>\n      <td>2.000000</td>\n      <td>3.340000</td>\n      <td>-73.968094</td>\n      <td>40.765396</td>\n      <td>1.000000</td>\n      <td>-73.963013</td>\n      <td>40.766872</td>\n      <td>15.000000</td>\n      <td>0.500000</td>\n      <td>0.500000</td>\n      <td>2.250000</td>\n      <td>0.000000</td>\n      <td>17.799999</td>\n      <td>2.000000</td>\n      <td>2015-08-23 22:50:20.250000</td>\n      <td>2015-08-23 23:04:43.750000</td>\n      <td>2.000000</td>\n      <td>0.300000</td>\n    </tr>\n    <tr>\n      <th>max</th>\n      <td>6.000000</td>\n      <td>170.500000</td>\n      <td>0.000000</td>\n      <td>41.102951</td>\n      <td>99.000000</td>\n      <td>0.000000</td>\n      <td>41.497978</td>\n      <td>340.000000</td>\n      <td>1.500000</td>\n      <td>0.500000</td>\n      <td>266.000000</td>\n      <td>450.000000</td>\n      <td>450.309998</td>\n      <td>2.000000</td>\n      <td>2015-08-31 23:59:42</td>\n      <td>2015-09-01 00:31:53</td>\n      <td>4.000000</td>\n      <td>0.300000</td>\n    </tr>\n    <tr>\n      <th>std</th>\n      <td>1.341564</td>\n      <td>3.843871</td>\n      <td>8.741989</td>\n      <td>4.815621</td>\n      <td>0.426653</td>\n      <td>8.335245</td>\n      <td>4.590389</td>\n      <td>11.231456</td>\n      <td>0.362087</td>\n      <td>0.038528</td>\n      <td>2.632934</td>\n      <td>2.108463</td>\n      <td>13.731123</td>\n      <td>0.499170</td>\n      <td>NaN</td>\n      <td>NaN</td>\n      <td>0.504330</td>\n      <td>0.012474</td>\n    </tr>\n  </tbody>\n</table>\n</div>"
     },
     "execution_count": 12,
     "metadata": {},
     "output_type": "execute_result"
    }
   ],
   "source": [
    "df.describe()"
   ],
   "metadata": {
    "collapsed": false,
    "ExecuteTime": {
     "end_time": "2023-09-22T09:28:47.451925500Z",
     "start_time": "2023-09-22T09:28:47.376379400Z"
    }
   },
   "id": "4341281676eb1ec0"
  },
  {
   "cell_type": "markdown",
   "source": [
    "# Generation distance and dt columns"
   ],
   "metadata": {
    "collapsed": false
   },
   "id": "82a46d03e78a6599"
  },
  {
   "cell_type": "code",
   "execution_count": 22,
   "outputs": [],
   "source": [
    "df['trip_time_sec'] = (df['dropoff_datetime'] - df['pickup_datetime']).dt.seconds"
   ],
   "metadata": {
    "collapsed": false,
    "ExecuteTime": {
     "end_time": "2023-09-22T09:34:43.612925100Z",
     "start_time": "2023-09-22T09:34:43.576075200Z"
    }
   },
   "id": "a0aa46326f29e1f6"
  },
  {
   "cell_type": "code",
   "execution_count": 29,
   "outputs": [],
   "source": [
    "df['pickup_weekday'] = df['pickup_datetime'].dt.weekday + 1\n",
    "df['dropoff_weekday'] = df['dropoff_datetime'].dt.weekday + 1"
   ],
   "metadata": {
    "collapsed": false,
    "ExecuteTime": {
     "end_time": "2023-09-22T09:37:59.637532200Z",
     "start_time": "2023-09-22T09:37:59.605772500Z"
    }
   },
   "id": "fe474a23847cd1e6"
  },
  {
   "cell_type": "code",
   "execution_count": 32,
   "outputs": [
    {
     "data": {
      "text/plain": "0.011611030478955007"
     },
     "execution_count": 32,
     "metadata": {},
     "output_type": "execute_result"
    }
   ],
   "source": [
    "(df['pickup_weekday'] != df['dropoff_weekday']).mean()"
   ],
   "metadata": {
    "collapsed": false,
    "ExecuteTime": {
     "end_time": "2023-09-22T09:38:28.646425200Z",
     "start_time": "2023-09-22T09:38:28.630795800Z"
    }
   },
   "id": "cd094efc2da93f2f"
  },
  {
   "cell_type": "code",
   "execution_count": 35,
   "outputs": [],
   "source": [
    "df['weekend_trip'] = (df['pickup_weekday'] >= 5) | (df['dropoff_weekday'] >= 5)"
   ],
   "metadata": {
    "collapsed": false,
    "ExecuteTime": {
     "end_time": "2023-09-22T09:39:32.969949500Z",
     "start_time": "2023-09-22T09:39:32.938260700Z"
    }
   },
   "id": "18e3ece79a76b1e8"
  },
  {
   "cell_type": "code",
   "execution_count": 38,
   "outputs": [],
   "source": [
    "df['pickup_hour'] = df['pickup_datetime'].dt.hour\n",
    "df['dropoff_hour'] = df['dropoff_datetime'].dt.hour"
   ],
   "metadata": {
    "collapsed": false,
    "ExecuteTime": {
     "end_time": "2023-09-22T09:40:21.713894900Z",
     "start_time": "2023-09-22T09:40:21.682487200Z"
    }
   },
   "id": "be10e6370da78104"
  },
  {
   "cell_type": "code",
   "execution_count": 40,
   "outputs": [
    {
     "data": {
      "text/plain": "0.22552040877189494"
     },
     "execution_count": 40,
     "metadata": {},
     "output_type": "execute_result"
    }
   ],
   "source": [
    "(df['pickup_hour'] != df['dropoff_hour']).mean()"
   ],
   "metadata": {
    "collapsed": false,
    "ExecuteTime": {
     "end_time": "2023-09-22T09:40:46.806340100Z",
     "start_time": "2023-09-22T09:40:46.795972500Z"
    }
   },
   "id": "75bad6550de8b83c"
  },
  {
   "cell_type": "code",
   "execution_count": 46,
   "outputs": [],
   "source": [
    "from haversine import haversine, Unit\n",
    "df['trip_haversine_km'] = df.apply(lambda x: haversine((x['pickup_latitude'], x['pickup_longitude']), (x['dropoff_latitude'], x['dropoff_longitude']), unit=Unit.KILOMETERS), axis=1)\n",
    "df['trip_haversine_miles'] = df.apply(lambda x: haversine((x['pickup_latitude'], x['pickup_longitude']), (x['dropoff_latitude'], x['dropoff_longitude']), unit=Unit.MILES), axis=1)"
   ],
   "metadata": {
    "collapsed": false,
    "ExecuteTime": {
     "end_time": "2023-09-22T09:46:07.776970900Z",
     "start_time": "2023-09-22T09:46:05.401597500Z"
    }
   },
   "id": "faee2db98e707f01"
  },
  {
   "cell_type": "code",
   "execution_count": 48,
   "outputs": [],
   "source": [
    "def manhattan(start, end):\n",
    "    return sum(abs(val1 - val2) for val1, val2 in zip(start, end))"
   ],
   "metadata": {
    "collapsed": false,
    "ExecuteTime": {
     "end_time": "2023-09-22T09:48:09.020709300Z",
     "start_time": "2023-09-22T09:48:09.016312600Z"
    }
   },
   "id": "a51795b8ba4fe0f0"
  },
  {
   "cell_type": "code",
   "execution_count": 50,
   "outputs": [],
   "source": [
    "df['trip_distance_manhattan'] = df.apply(lambda x: manhattan([x['pickup_latitude'], x['pickup_longitude']], [x['dropoff_latitude'], x['dropoff_longitude']]), axis=1)"
   ],
   "metadata": {
    "collapsed": false,
    "ExecuteTime": {
     "end_time": "2023-09-22T09:49:11.354229500Z",
     "start_time": "2023-09-22T09:49:10.084774700Z"
    }
   },
   "id": "67b5c5f81dacbdb5"
  },
  {
   "cell_type": "markdown",
   "source": [
    "# Exploring data"
   ],
   "metadata": {
    "collapsed": false
   },
   "id": "53656110c99d7d9e"
  },
  {
   "cell_type": "code",
   "execution_count": 56,
   "outputs": [
    {
     "name": "stderr",
     "output_type": "stream",
     "text": [
      "C:\\Users\\ixa4823\\AppData\\Local\\Programs\\Python\\Python39\\lib\\site-packages\\seaborn\\_oldcore.py:1498: FutureWarning: is_categorical_dtype is deprecated and will be removed in a future version. Use isinstance(dtype, CategoricalDtype) instead\n",
      "  if pd.api.types.is_categorical_dtype(vector):\n",
      "C:\\Users\\ixa4823\\AppData\\Local\\Programs\\Python\\Python39\\lib\\site-packages\\seaborn\\_oldcore.py:1498: FutureWarning: is_categorical_dtype is deprecated and will be removed in a future version. Use isinstance(dtype, CategoricalDtype) instead\n",
      "  if pd.api.types.is_categorical_dtype(vector):\n",
      "C:\\Users\\ixa4823\\AppData\\Local\\Programs\\Python\\Python39\\lib\\site-packages\\seaborn\\_oldcore.py:1498: FutureWarning: is_categorical_dtype is deprecated and will be removed in a future version. Use isinstance(dtype, CategoricalDtype) instead\n",
      "  if pd.api.types.is_categorical_dtype(vector):\n"
     ]
    },
    {
     "data": {
      "text/plain": "<Axes: xlabel='passenger_count', ylabel='passenger_count'>"
     },
     "execution_count": 56,
     "metadata": {},
     "output_type": "execute_result"
    },
    {
     "data": {
      "text/plain": "<Figure size 640x480 with 1 Axes>",
      "image/png": "[encoded data removed]"
     },
     "metadata": {},
     "output_type": "display_data"
    }
   ],
   "source": [
    "sns.barplot(data=df, x='passenger_count', y='passenger_count')"
   ],
   "metadata": {
    "collapsed": false,
    "ExecuteTime": {
     "end_time": "2023-09-22T09:54:45.046648200Z",
     "start_time": "2023-09-22T09:54:44.095532100Z"
    }
   },
   "id": "242168480c19c511"
  },
  {
   "cell_type": "code",
   "execution_count": 57,
   "outputs": [
    {
     "data": {
      "text/plain": "passenger_count\n1    0.699843\n2    0.142762\n5    0.053969\n3    0.045092\n6    0.035728\n4    0.022566\n0    0.000040\nName: proportion, dtype: float64"
     },
     "execution_count": 57,
     "metadata": {},
     "output_type": "execute_result"
    }
   ],
   "source": [
    "df['passenger_count'].value_counts(normalize=True)"
   ],
   "metadata": {
    "collapsed": false,
    "ExecuteTime": {
     "end_time": "2023-09-22T09:55:25.302229400Z",
     "start_time": "2023-09-22T09:55:25.263216300Z"
    }
   },
   "id": "ebd69b9612ad3da7"
  },
  {
   "cell_type": "markdown",
   "source": [
    "# Datetime columns"
   ],
   "metadata": {
    "collapsed": false
   },
   "id": "e6ab2eb357f38602"
  },
  {
   "cell_type": "code",
   "execution_count": 8,
   "outputs": [
    {
     "data": {
      "text/plain": "pickup_datetime\n2015    100594\nName: count, dtype: int64"
     },
     "execution_count": 8,
     "metadata": {},
     "output_type": "execute_result"
    }
   ],
   "source": [
    "df['pickup_datetime'].dt.year.value_counts()"
   ],
   "metadata": {
    "collapsed": false,
    "ExecuteTime": {
     "end_time": "2023-09-22T09:27:22.426884200Z",
     "start_time": "2023-09-22T09:27:22.411245300Z"
    }
   },
   "id": "f0ef0dd8b0965c72"
  },
  {
   "cell_type": "code",
   "execution_count": 10,
   "outputs": [
    {
     "data": {
      "text/plain": "pickup_datetime\n8    100594\nName: count, dtype: int64"
     },
     "execution_count": 10,
     "metadata": {},
     "output_type": "execute_result"
    }
   ],
   "source": [
    "df['pickup_datetime'].dt.month.value_counts()"
   ],
   "metadata": {
    "collapsed": false,
    "ExecuteTime": {
     "end_time": "2023-09-22T09:27:44.038309600Z",
     "start_time": "2023-09-22T09:27:44.022647Z"
    }
   },
   "id": "fbda786fa5999d4a"
  },
  {
   "cell_type": "code",
   "execution_count": 11,
   "outputs": [
    {
     "data": {
      "text/plain": "pickup_datetime\n5     3627\n1     3576\n6     3558\n13    3530\n7     3473\n20    3454\n14    3434\n15    3423\n21    3416\n28    3384\n19    3375\n12    3371\n18    3327\n27    3320\n4     3304\n11    3273\n8     3271\n22    3242\n26    3242\n29    3200\n2     3190\n3     3124\n30    3090\n17    3075\n25    3047\n16    2983\n31    2900\n9     2879\n24    2846\n23    2836\n10    2824\nName: count, dtype: int64"
     },
     "execution_count": 11,
     "metadata": {},
     "output_type": "execute_result"
    }
   ],
   "source": [
    "df['pickup_datetime'].dt.day.value_counts()"
   ],
   "metadata": {
    "collapsed": false,
    "ExecuteTime": {
     "end_time": "2023-09-22T09:28:14.303748400Z",
     "start_time": "2023-09-22T09:28:14.287935900Z"
    }
   },
   "id": "91493b69f582383a"
  },
  {
   "cell_type": "code",
   "execution_count": 13,
   "outputs": [
    {
     "data": {
      "text/plain": "pickup_datetime\n19    6127\n18    6050\n20    5993\n21    5823\n22    5648\n17    5293\n14    4998\n23    4951\n13    4950\n12    4815\n15    4814\n9     4570\n11    4472\n10    4452\n16    4363\n8     4360\n0     3982\n7     3458\n1     2983\n2     2295\n6     2165\n3     1697\n5     1177\n4     1158\nName: count, dtype: int64"
     },
     "execution_count": 13,
     "metadata": {},
     "output_type": "execute_result"
    }
   ],
   "source": [
    "df['pickup_datetime'].dt.hour.value_counts()"
   ],
   "metadata": {
    "collapsed": false,
    "ExecuteTime": {
     "end_time": "2023-09-22T09:30:07.584606200Z",
     "start_time": "2023-09-22T09:30:07.504540Z"
    }
   },
   "id": "7f5803d338514e4a"
  },
  {
   "cell_type": "code",
   "execution_count": null,
   "outputs": [],
   "source": [],
   "metadata": {
    "collapsed": false
   },
   "id": "77e9599c2af6aa6f"
  }
 ],
 "metadata": {
  "kernelspec": {
   "display_name": "Python 3",
   "language": "python",
   "name": "python3"
  },
  "language_info": {
   "codemirror_mode": {
    "name": "ipython",
    "version": 2
   },
   "file_extension": ".py",
   "mimetype": "text/x-python",
   "name": "python",
   "nbconvert_exporter": "python",
   "pygments_lexer": "ipython2",
   "version": "2.7.6"
  }
 },
 "nbformat": 4,
 "nbformat_minor": 5
}
