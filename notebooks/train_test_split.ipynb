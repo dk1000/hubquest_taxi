{
 "cells": [
  {
   "cell_type": "markdown",
   "source": [
    "### Author: Igor Adamiec\n",
    "### Date: 12.10.2023\n",
    "### Desc: \n",
    "Notebook that splits the raw data into training and testing sets and save them in data/raw directory"
   ],
   "metadata": {
    "collapsed": false
   },
   "id": "3efdc96da5163c92"
  },
  {
   "cell_type": "code",
   "execution_count": 8,
   "id": "initial_id",
   "metadata": {
    "collapsed": true,
    "ExecuteTime": {
     "end_time": "2023-10-12T12:41:19.446012900Z",
     "start_time": "2023-10-12T12:41:19.443883400Z"
    }
   },
   "outputs": [],
   "source": [
    "import pandas as pd\n",
    "from sklearn.model_selection import train_test_split"
   ]
  },
  {
   "cell_type": "code",
   "execution_count": 13,
   "outputs": [],
   "source": [
    "path = \"../data/raw/\""
   ],
   "metadata": {
    "collapsed": false,
    "ExecuteTime": {
     "end_time": "2023-10-12T12:43:07.291317500Z",
     "start_time": "2023-10-12T12:43:07.286980400Z"
    }
   },
   "id": "f4e3cb6e80be43f3"
  },
  {
   "cell_type": "code",
   "execution_count": 14,
   "outputs": [
    {
     "data": {
      "text/plain": "   passenger_count  trip_distance  pickup_longitude  pickup_latitude  \\\n0                1           1.00        -73.962883        40.766521   \n1                1           1.15        -74.006599        40.744186   \n2                6           3.00        -73.989113        40.758263   \n3                1           1.11        -73.994087        40.751228   \n4                2           2.34        -73.982079        40.746006   \n\n   ratecodeid store_and_fwd_flag  dropoff_longitude  dropoff_latitude  \\\n0           1                  N         -73.975868         40.763676   \n1           1                  N         -73.994347         40.754211   \n2           1                  N         -73.992310         40.725040   \n3           1                  N         -73.981529         40.758717   \n4           1                  N         -73.962326         40.774628   \n\n   fare_amount  extra  mta_tax  tip_amount  tolls_amount  total_amount  \\\n0          6.0    0.0      0.5        1.00           0.0          7.80   \n1          6.5    0.0      0.5        0.00           0.0          7.30   \n2         15.0    1.0      0.5        3.36           0.0         20.16   \n3         11.0    0.0      0.5        2.95           0.0         14.75   \n4         11.0    0.5      0.5        3.08           0.0         15.38   \n\n   vendor_id     pickup_datetime    dropoff_datetime  payment_type  \\\n0          1 2015-08-26 06:35:08 2015-08-26 06:40:55             1   \n1          2 2015-08-22 17:25:04 2015-08-22 17:31:04             2   \n2          2 2015-08-25 17:07:03 2015-08-25 17:28:22             1   \n3          2 2015-08-03 11:32:22 2015-08-03 11:48:59             1   \n4          2 2015-08-07 21:33:16 2015-08-07 21:44:54             1   \n\n   imp_surcharge  \n0            0.3  \n1            0.3  \n2            0.3  \n3            0.3  \n4            0.3  ",
      "text/html": "<div>\n<style scoped>\n    .dataframe tbody tr th:only-of-type {\n        vertical-align: middle;\n    }\n\n    .dataframe tbody tr th {\n        vertical-align: top;\n    }\n\n    .dataframe thead th {\n        text-align: right;\n    }\n</style>\n<table border=\"1\" class=\"dataframe\">\n  <thead>\n    <tr style=\"text-align: right;\">\n      <th></th>\n      <th>passenger_count</th>\n      <th>trip_distance</th>\n      <th>pickup_longitude</th>\n      <th>pickup_latitude</th>\n      <th>ratecodeid</th>\n      <th>store_and_fwd_flag</th>\n      <th>dropoff_longitude</th>\n      <th>dropoff_latitude</th>\n      <th>fare_amount</th>\n      <th>extra</th>\n      <th>mta_tax</th>\n      <th>tip_amount</th>\n      <th>tolls_amount</th>\n      <th>total_amount</th>\n      <th>vendor_id</th>\n      <th>pickup_datetime</th>\n      <th>dropoff_datetime</th>\n      <th>payment_type</th>\n      <th>imp_surcharge</th>\n    </tr>\n  </thead>\n  <tbody>\n    <tr>\n      <th>0</th>\n      <td>1</td>\n      <td>1.00</td>\n      <td>-73.962883</td>\n      <td>40.766521</td>\n      <td>1</td>\n      <td>N</td>\n      <td>-73.975868</td>\n      <td>40.763676</td>\n      <td>6.0</td>\n      <td>0.0</td>\n      <td>0.5</td>\n      <td>1.00</td>\n      <td>0.0</td>\n      <td>7.80</td>\n      <td>1</td>\n      <td>2015-08-26 06:35:08</td>\n      <td>2015-08-26 06:40:55</td>\n      <td>1</td>\n      <td>0.3</td>\n    </tr>\n    <tr>\n      <th>1</th>\n      <td>1</td>\n      <td>1.15</td>\n      <td>-74.006599</td>\n      <td>40.744186</td>\n      <td>1</td>\n      <td>N</td>\n      <td>-73.994347</td>\n      <td>40.754211</td>\n      <td>6.5</td>\n      <td>0.0</td>\n      <td>0.5</td>\n      <td>0.00</td>\n      <td>0.0</td>\n      <td>7.30</td>\n      <td>2</td>\n      <td>2015-08-22 17:25:04</td>\n      <td>2015-08-22 17:31:04</td>\n      <td>2</td>\n      <td>0.3</td>\n    </tr>\n    <tr>\n      <th>2</th>\n      <td>6</td>\n      <td>3.00</td>\n      <td>-73.989113</td>\n      <td>40.758263</td>\n      <td>1</td>\n      <td>N</td>\n      <td>-73.992310</td>\n      <td>40.725040</td>\n      <td>15.0</td>\n      <td>1.0</td>\n      <td>0.5</td>\n      <td>3.36</td>\n      <td>0.0</td>\n      <td>20.16</td>\n      <td>2</td>\n      <td>2015-08-25 17:07:03</td>\n      <td>2015-08-25 17:28:22</td>\n      <td>1</td>\n      <td>0.3</td>\n    </tr>\n    <tr>\n      <th>3</th>\n      <td>1</td>\n      <td>1.11</td>\n      <td>-73.994087</td>\n      <td>40.751228</td>\n      <td>1</td>\n      <td>N</td>\n      <td>-73.981529</td>\n      <td>40.758717</td>\n      <td>11.0</td>\n      <td>0.0</td>\n      <td>0.5</td>\n      <td>2.95</td>\n      <td>0.0</td>\n      <td>14.75</td>\n      <td>2</td>\n      <td>2015-08-03 11:32:22</td>\n      <td>2015-08-03 11:48:59</td>\n      <td>1</td>\n      <td>0.3</td>\n    </tr>\n    <tr>\n      <th>4</th>\n      <td>2</td>\n      <td>2.34</td>\n      <td>-73.982079</td>\n      <td>40.746006</td>\n      <td>1</td>\n      <td>N</td>\n      <td>-73.962326</td>\n      <td>40.774628</td>\n      <td>11.0</td>\n      <td>0.5</td>\n      <td>0.5</td>\n      <td>3.08</td>\n      <td>0.0</td>\n      <td>15.38</td>\n      <td>2</td>\n      <td>2015-08-07 21:33:16</td>\n      <td>2015-08-07 21:44:54</td>\n      <td>1</td>\n      <td>0.3</td>\n    </tr>\n  </tbody>\n</table>\n</div>"
     },
     "execution_count": 14,
     "metadata": {},
     "output_type": "execute_result"
    }
   ],
   "source": [
    "df = pd.read_parquet(path + 'final_taxi_data.parquet')\n",
    "df.head()"
   ],
   "metadata": {
    "collapsed": false,
    "ExecuteTime": {
     "end_time": "2023-10-12T12:43:22.165293800Z",
     "start_time": "2023-10-12T12:43:22.134527600Z"
    }
   },
   "id": "b17c704f1ad6fb5f"
  },
  {
   "cell_type": "code",
   "execution_count": 15,
   "outputs": [
    {
     "data": {
      "text/plain": "passenger_count                 int8\ntrip_distance                float32\npickup_longitude             float64\npickup_latitude              float64\nratecodeid                      int8\nstore_and_fwd_flag          category\ndropoff_longitude            float64\ndropoff_latitude             float64\nfare_amount                  float32\nextra                        float32\nmta_tax                      float32\ntip_amount                   float32\ntolls_amount                 float32\ntotal_amount                 float32\nvendor_id                       int8\npickup_datetime       datetime64[us]\ndropoff_datetime      datetime64[us]\npayment_type                    int8\nimp_surcharge                float32\ndtype: object"
     },
     "execution_count": 15,
     "metadata": {},
     "output_type": "execute_result"
    }
   ],
   "source": [
    "df.dtypes"
   ],
   "metadata": {
    "collapsed": false,
    "ExecuteTime": {
     "end_time": "2023-10-12T12:43:23.847362900Z",
     "start_time": "2023-10-12T12:43:23.838541600Z"
    }
   },
   "id": "f75ae34c33fbb61f"
  },
  {
   "cell_type": "code",
   "execution_count": 19,
   "outputs": [],
   "source": [
    "test_size = .3"
   ],
   "metadata": {
    "collapsed": false,
    "ExecuteTime": {
     "end_time": "2023-10-12T12:46:12.631825500Z",
     "start_time": "2023-10-12T12:46:12.626990600Z"
    }
   },
   "id": "4353553d7d5fa087"
  },
  {
   "cell_type": "code",
   "execution_count": 20,
   "outputs": [],
   "source": [
    "train_set, test_set = train_test_split(df, test_size=test_size, random_state=2137)"
   ],
   "metadata": {
    "collapsed": false,
    "ExecuteTime": {
     "end_time": "2023-10-12T12:46:16.427778300Z",
     "start_time": "2023-10-12T12:46:16.410492700Z"
    }
   },
   "id": "895579a8ab888366"
  },
  {
   "cell_type": "code",
   "execution_count": 21,
   "outputs": [
    {
     "name": "stdout",
     "output_type": "stream",
     "text": [
      "Raw size: 100594\n",
      "Training size: 70415\n",
      "Test size: 30179\n"
     ]
    }
   ],
   "source": [
    "print(f\"Raw size: {len(df)}\")\n",
    "print(f\"Training size: {len(train_set)}\")\n",
    "print(f\"Test size: {len(test_set)}\")"
   ],
   "metadata": {
    "collapsed": false,
    "ExecuteTime": {
     "end_time": "2023-10-12T12:46:17.885794900Z",
     "start_time": "2023-10-12T12:46:17.879409200Z"
    }
   },
   "id": "d3d96282a27fcc70"
  },
  {
   "cell_type": "code",
   "execution_count": 22,
   "outputs": [],
   "source": [
    "train_set.to_parquet(path + 'train_data.parquet')\n",
    "test_set.to_parquet(path + 'test_data.parquet')"
   ],
   "metadata": {
    "collapsed": false,
    "ExecuteTime": {
     "end_time": "2023-10-12T12:46:18.927836400Z",
     "start_time": "2023-10-12T12:46:18.838397600Z"
    }
   },
   "id": "1ad8d75682f361b9"
  }
 ],
 "metadata": {
  "kernelspec": {
   "display_name": "Python 3",
   "language": "python",
   "name": "python3"
  },
  "language_info": {
   "codemirror_mode": {
    "name": "ipython",
    "version": 2
   },
   "file_extension": ".py",
   "mimetype": "text/x-python",
   "name": "python",
   "nbconvert_exporter": "python",
   "pygments_lexer": "ipython2",
   "version": "2.7.6"
  }
 },
 "nbformat": 4,
 "nbformat_minor": 5
}
