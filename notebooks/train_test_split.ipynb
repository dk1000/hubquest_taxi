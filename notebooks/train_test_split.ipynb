{
 "cells": [
  {
   "cell_type": "markdown",
   "source": [
    "### Author: Igor Adamiec\n",
    "### Date: 12.10.2023\n",
    "### Desc: \n",
    "Notebook that splits the raw data into training and testing sets and save them in data/raw directory"
   ],
   "metadata": {
    "collapsed": false
   },
   "id": "3efdc96da5163c92"
  },
  {
   "cell_type": "code",
   "execution_count": 45,
   "id": "initial_id",
   "metadata": {
    "collapsed": true,
    "ExecuteTime": {
     "end_time": "2023-10-13T07:57:57.435707600Z",
     "start_time": "2023-10-13T07:57:57.408677100Z"
    }
   },
   "outputs": [],
   "source": [
    "import pandas as pd\n",
    "# from sklearn.model_selection import train_test_split"
   ]
  },
  {
   "cell_type": "code",
   "execution_count": 46,
   "outputs": [],
   "source": [
    "path = \"../data/raw/\""
   ],
   "metadata": {
    "collapsed": false,
    "ExecuteTime": {
     "end_time": "2023-10-13T07:57:57.469215Z",
     "start_time": "2023-10-13T07:57:57.415788300Z"
    }
   },
   "id": "f4e3cb6e80be43f3"
  },
  {
   "cell_type": "code",
   "execution_count": 47,
   "outputs": [
    {
     "data": {
      "text/plain": "   passenger_count  trip_distance  pickup_longitude  pickup_latitude  \\\n0                2      19.139999        -73.789780        40.647160   \n1                1       3.900000        -73.990479        40.750092   \n2                1       2.860000        -74.008583        40.719704   \n3                6       3.200000        -73.946808        40.776146   \n4                1       0.500000        -73.994316        40.746120   \n\n   ratecodeid store_and_fwd_flag  dropoff_longitude  dropoff_latitude  \\\n0           2                  N         -73.984962         40.751839   \n1           1                  N         -73.948700         40.779205   \n2           1                  N         -73.984711         40.743496   \n3           1                  N         -73.987701         40.765270   \n4           1                  N         -73.989944         40.741764   \n\n   fare_amount  extra  mta_tax  tip_amount  tolls_amount  total_amount  \\\n0         52.0    0.0      0.5       10.00          5.54     68.339996   \n1         16.5    0.5      0.5        4.45          0.00     22.250000   \n2         11.5    0.5      0.5        1.50          0.00     14.300000   \n3         15.5    0.5      0.5        3.36          0.00     20.160000   \n4          4.5    0.5      0.5        1.20          0.00      7.000000   \n\n   vendor_id     pickup_datetime    dropoff_datetime  payment_type  \\\n0          2 2015-08-01 00:00:44 2015-08-01 00:31:23             1   \n1          1 2015-08-01 00:00:56 2015-08-01 00:20:46             1   \n2          2 2015-08-01 00:01:09 2015-08-01 00:13:41             1   \n3          2 2015-08-01 00:01:12 2015-08-01 00:21:03             1   \n4          1 2015-08-01 00:01:14 2015-08-01 00:05:09             1   \n\n   imp_surcharge  \n0            0.3  \n1            0.3  \n2            0.3  \n3            0.3  \n4            0.3  ",
      "text/html": "<div>\n<style scoped>\n    .dataframe tbody tr th:only-of-type {\n        vertical-align: middle;\n    }\n\n    .dataframe tbody tr th {\n        vertical-align: top;\n    }\n\n    .dataframe thead th {\n        text-align: right;\n    }\n</style>\n<table border=\"1\" class=\"dataframe\">\n  <thead>\n    <tr style=\"text-align: right;\">\n      <th></th>\n      <th>passenger_count</th>\n      <th>trip_distance</th>\n      <th>pickup_longitude</th>\n      <th>pickup_latitude</th>\n      <th>ratecodeid</th>\n      <th>store_and_fwd_flag</th>\n      <th>dropoff_longitude</th>\n      <th>dropoff_latitude</th>\n      <th>fare_amount</th>\n      <th>extra</th>\n      <th>mta_tax</th>\n      <th>tip_amount</th>\n      <th>tolls_amount</th>\n      <th>total_amount</th>\n      <th>vendor_id</th>\n      <th>pickup_datetime</th>\n      <th>dropoff_datetime</th>\n      <th>payment_type</th>\n      <th>imp_surcharge</th>\n    </tr>\n  </thead>\n  <tbody>\n    <tr>\n      <th>0</th>\n      <td>2</td>\n      <td>19.139999</td>\n      <td>-73.789780</td>\n      <td>40.647160</td>\n      <td>2</td>\n      <td>N</td>\n      <td>-73.984962</td>\n      <td>40.751839</td>\n      <td>52.0</td>\n      <td>0.0</td>\n      <td>0.5</td>\n      <td>10.00</td>\n      <td>5.54</td>\n      <td>68.339996</td>\n      <td>2</td>\n      <td>2015-08-01 00:00:44</td>\n      <td>2015-08-01 00:31:23</td>\n      <td>1</td>\n      <td>0.3</td>\n    </tr>\n    <tr>\n      <th>1</th>\n      <td>1</td>\n      <td>3.900000</td>\n      <td>-73.990479</td>\n      <td>40.750092</td>\n      <td>1</td>\n      <td>N</td>\n      <td>-73.948700</td>\n      <td>40.779205</td>\n      <td>16.5</td>\n      <td>0.5</td>\n      <td>0.5</td>\n      <td>4.45</td>\n      <td>0.00</td>\n      <td>22.250000</td>\n      <td>1</td>\n      <td>2015-08-01 00:00:56</td>\n      <td>2015-08-01 00:20:46</td>\n      <td>1</td>\n      <td>0.3</td>\n    </tr>\n    <tr>\n      <th>2</th>\n      <td>1</td>\n      <td>2.860000</td>\n      <td>-74.008583</td>\n      <td>40.719704</td>\n      <td>1</td>\n      <td>N</td>\n      <td>-73.984711</td>\n      <td>40.743496</td>\n      <td>11.5</td>\n      <td>0.5</td>\n      <td>0.5</td>\n      <td>1.50</td>\n      <td>0.00</td>\n      <td>14.300000</td>\n      <td>2</td>\n      <td>2015-08-01 00:01:09</td>\n      <td>2015-08-01 00:13:41</td>\n      <td>1</td>\n      <td>0.3</td>\n    </tr>\n    <tr>\n      <th>3</th>\n      <td>6</td>\n      <td>3.200000</td>\n      <td>-73.946808</td>\n      <td>40.776146</td>\n      <td>1</td>\n      <td>N</td>\n      <td>-73.987701</td>\n      <td>40.765270</td>\n      <td>15.5</td>\n      <td>0.5</td>\n      <td>0.5</td>\n      <td>3.36</td>\n      <td>0.00</td>\n      <td>20.160000</td>\n      <td>2</td>\n      <td>2015-08-01 00:01:12</td>\n      <td>2015-08-01 00:21:03</td>\n      <td>1</td>\n      <td>0.3</td>\n    </tr>\n    <tr>\n      <th>4</th>\n      <td>1</td>\n      <td>0.500000</td>\n      <td>-73.994316</td>\n      <td>40.746120</td>\n      <td>1</td>\n      <td>N</td>\n      <td>-73.989944</td>\n      <td>40.741764</td>\n      <td>4.5</td>\n      <td>0.5</td>\n      <td>0.5</td>\n      <td>1.20</td>\n      <td>0.00</td>\n      <td>7.000000</td>\n      <td>1</td>\n      <td>2015-08-01 00:01:14</td>\n      <td>2015-08-01 00:05:09</td>\n      <td>1</td>\n      <td>0.3</td>\n    </tr>\n  </tbody>\n</table>\n</div>"
     },
     "execution_count": 47,
     "metadata": {},
     "output_type": "execute_result"
    }
   ],
   "source": [
    "df = pd.read_parquet(path + 'final_taxi_data.parquet').sort_values('pickup_datetime').reset_index(drop=True)\n",
    "df.head()"
   ],
   "metadata": {
    "collapsed": false,
    "ExecuteTime": {
     "end_time": "2023-10-13T07:57:57.499312900Z",
     "start_time": "2023-10-13T07:57:57.419860500Z"
    }
   },
   "id": "b17c704f1ad6fb5f"
  },
  {
   "cell_type": "code",
   "execution_count": 48,
   "outputs": [
    {
     "data": {
      "text/plain": "passenger_count                 int8\ntrip_distance                float32\npickup_longitude             float64\npickup_latitude              float64\nratecodeid                      int8\nstore_and_fwd_flag          category\ndropoff_longitude            float64\ndropoff_latitude             float64\nfare_amount                  float32\nextra                        float32\nmta_tax                      float32\ntip_amount                   float32\ntolls_amount                 float32\ntotal_amount                 float32\nvendor_id                       int8\npickup_datetime       datetime64[us]\ndropoff_datetime      datetime64[us]\npayment_type                    int8\nimp_surcharge                float32\ndtype: object"
     },
     "execution_count": 48,
     "metadata": {},
     "output_type": "execute_result"
    }
   ],
   "source": [
    "df.dtypes"
   ],
   "metadata": {
    "collapsed": false,
    "ExecuteTime": {
     "end_time": "2023-10-13T07:57:57.499312900Z",
     "start_time": "2023-10-13T07:57:57.461374100Z"
    }
   },
   "id": "f75ae34c33fbb61f"
  },
  {
   "cell_type": "code",
   "execution_count": 49,
   "outputs": [
    {
     "data": {
      "text/plain": "70416"
     },
     "execution_count": 49,
     "metadata": {},
     "output_type": "execute_result"
    }
   ],
   "source": [
    "test_size = .3\n",
    "split_idx = int(round((1-test_size) * len(df), 0))\n",
    "split_idx"
   ],
   "metadata": {
    "collapsed": false,
    "ExecuteTime": {
     "end_time": "2023-10-13T07:57:57.499312900Z",
     "start_time": "2023-10-13T07:57:57.470389400Z"
    }
   },
   "id": "4353553d7d5fa087"
  },
  {
   "cell_type": "code",
   "execution_count": 50,
   "outputs": [
    {
     "data": {
      "text/plain": "        passenger_count  trip_distance  pickup_longitude  pickup_latitude  \\\n70416                 1       0.700000        -74.010971        40.710766   \n70417                 2       2.390000        -74.015213        40.709339   \n70418                 1       5.690000        -73.979599        40.727428   \n70419                 1       1.600000        -73.955650        40.782116   \n70420                 1       1.530000        -73.991241        40.730061   \n...                 ...            ...               ...              ...   \n100589                5       4.690000        -73.994766        40.734509   \n100590                4       7.630000        -73.981232        40.763920   \n100591                6      17.360001        -73.789497        40.646790   \n100592                1       1.800000        -73.991005        40.756367   \n100593                1       4.900000        -73.979637        40.760952   \n\n        ratecodeid store_and_fwd_flag  dropoff_longitude  dropoff_latitude  \\\n70416            1                  N         -74.012817         40.706367   \n70417            1                  N         -74.007401         40.741718   \n70418            1                  N         -73.977821         40.787060   \n70419            1                  N         -73.968277         40.764900   \n70420            1                  N         -73.979591         40.749371   \n...            ...                ...                ...               ...   \n100589           1                  N         -73.964279         40.680439   \n100590           1                  N         -74.005219         40.676895   \n100591           2                  N         -73.979362         40.761463   \n100592           1                  N         -73.980530         40.780071   \n100593           1                  N         -73.951477         40.724773   \n\n        fare_amount  extra  mta_tax  tip_amount  tolls_amount  total_amount  \\\n70416           5.0    0.0      0.5        1.45          0.00      7.250000   \n70417          10.5    0.0      0.5        0.00          0.00     11.300000   \n70418          20.5    0.0      0.5        4.26          0.00     25.559999   \n70419           8.0    0.0      0.5        1.75          0.00     10.550000   \n70420           7.0    0.0      0.5        1.56          0.00      9.360000   \n...             ...    ...      ...         ...           ...           ...   \n100589         17.5    0.5      0.5        3.00          0.00     21.799999   \n100590         28.0    0.5      0.5        5.86          0.00     35.160000   \n100591         52.0    0.0      0.5       11.67          5.54     70.010002   \n100592          8.5    0.5      0.5        1.95          0.00     11.750000   \n100593         18.5    0.5      0.5        4.95          0.00     24.750000   \n\n        vendor_id     pickup_datetime    dropoff_datetime  payment_type  \\\n70416           1 2015-08-22 09:37:07 2015-08-22 09:41:29             1   \n70417           2 2015-08-22 09:38:36 2015-08-22 09:48:03             2   \n70418           2 2015-08-22 09:38:37 2015-08-22 10:00:21             1   \n70419           1 2015-08-22 09:38:37 2015-08-22 09:46:02             1   \n70420           2 2015-08-22 09:39:12 2015-08-22 09:45:32             1   \n...           ...                 ...                 ...           ...   \n100589          2 2015-08-31 23:58:09 2015-09-01 00:17:23             1   \n100590          2 2015-08-31 23:58:32 2015-09-01 00:31:53             1   \n100591          2 2015-08-31 23:58:44 2015-09-01 00:31:08             1   \n100592          1 2015-08-31 23:59:11 2015-09-01 00:07:13             1   \n100593          1 2015-08-31 23:59:42 2015-09-01 00:20:46             1   \n\n        imp_surcharge  \n70416             0.3  \n70417             0.3  \n70418             0.3  \n70419             0.3  \n70420             0.3  \n...               ...  \n100589            0.3  \n100590            0.3  \n100591            0.3  \n100592            0.3  \n100593            0.3  \n\n[30178 rows x 19 columns]",
      "text/html": "<div>\n<style scoped>\n    .dataframe tbody tr th:only-of-type {\n        vertical-align: middle;\n    }\n\n    .dataframe tbody tr th {\n        vertical-align: top;\n    }\n\n    .dataframe thead th {\n        text-align: right;\n    }\n</style>\n<table border=\"1\" class=\"dataframe\">\n  <thead>\n    <tr style=\"text-align: right;\">\n      <th></th>\n      <th>passenger_count</th>\n      <th>trip_distance</th>\n      <th>pickup_longitude</th>\n      <th>pickup_latitude</th>\n      <th>ratecodeid</th>\n      <th>store_and_fwd_flag</th>\n      <th>dropoff_longitude</th>\n      <th>dropoff_latitude</th>\n      <th>fare_amount</th>\n      <th>extra</th>\n      <th>mta_tax</th>\n      <th>tip_amount</th>\n      <th>tolls_amount</th>\n      <th>total_amount</th>\n      <th>vendor_id</th>\n      <th>pickup_datetime</th>\n      <th>dropoff_datetime</th>\n      <th>payment_type</th>\n      <th>imp_surcharge</th>\n    </tr>\n  </thead>\n  <tbody>\n    <tr>\n      <th>70416</th>\n      <td>1</td>\n      <td>0.700000</td>\n      <td>-74.010971</td>\n      <td>40.710766</td>\n      <td>1</td>\n      <td>N</td>\n      <td>-74.012817</td>\n      <td>40.706367</td>\n      <td>5.0</td>\n      <td>0.0</td>\n      <td>0.5</td>\n      <td>1.45</td>\n      <td>0.00</td>\n      <td>7.250000</td>\n      <td>1</td>\n      <td>2015-08-22 09:37:07</td>\n      <td>2015-08-22 09:41:29</td>\n      <td>1</td>\n      <td>0.3</td>\n    </tr>\n    <tr>\n      <th>70417</th>\n      <td>2</td>\n      <td>2.390000</td>\n      <td>-74.015213</td>\n      <td>40.709339</td>\n      <td>1</td>\n      <td>N</td>\n      <td>-74.007401</td>\n      <td>40.741718</td>\n      <td>10.5</td>\n      <td>0.0</td>\n      <td>0.5</td>\n      <td>0.00</td>\n      <td>0.00</td>\n      <td>11.300000</td>\n      <td>2</td>\n      <td>2015-08-22 09:38:36</td>\n      <td>2015-08-22 09:48:03</td>\n      <td>2</td>\n      <td>0.3</td>\n    </tr>\n    <tr>\n      <th>70418</th>\n      <td>1</td>\n      <td>5.690000</td>\n      <td>-73.979599</td>\n      <td>40.727428</td>\n      <td>1</td>\n      <td>N</td>\n      <td>-73.977821</td>\n      <td>40.787060</td>\n      <td>20.5</td>\n      <td>0.0</td>\n      <td>0.5</td>\n      <td>4.26</td>\n      <td>0.00</td>\n      <td>25.559999</td>\n      <td>2</td>\n      <td>2015-08-22 09:38:37</td>\n      <td>2015-08-22 10:00:21</td>\n      <td>1</td>\n      <td>0.3</td>\n    </tr>\n    <tr>\n      <th>70419</th>\n      <td>1</td>\n      <td>1.600000</td>\n      <td>-73.955650</td>\n      <td>40.782116</td>\n      <td>1</td>\n      <td>N</td>\n      <td>-73.968277</td>\n      <td>40.764900</td>\n      <td>8.0</td>\n      <td>0.0</td>\n      <td>0.5</td>\n      <td>1.75</td>\n      <td>0.00</td>\n      <td>10.550000</td>\n      <td>1</td>\n      <td>2015-08-22 09:38:37</td>\n      <td>2015-08-22 09:46:02</td>\n      <td>1</td>\n      <td>0.3</td>\n    </tr>\n    <tr>\n      <th>70420</th>\n      <td>1</td>\n      <td>1.530000</td>\n      <td>-73.991241</td>\n      <td>40.730061</td>\n      <td>1</td>\n      <td>N</td>\n      <td>-73.979591</td>\n      <td>40.749371</td>\n      <td>7.0</td>\n      <td>0.0</td>\n      <td>0.5</td>\n      <td>1.56</td>\n      <td>0.00</td>\n      <td>9.360000</td>\n      <td>2</td>\n      <td>2015-08-22 09:39:12</td>\n      <td>2015-08-22 09:45:32</td>\n      <td>1</td>\n      <td>0.3</td>\n    </tr>\n    <tr>\n      <th>...</th>\n      <td>...</td>\n      <td>...</td>\n      <td>...</td>\n      <td>...</td>\n      <td>...</td>\n      <td>...</td>\n      <td>...</td>\n      <td>...</td>\n      <td>...</td>\n      <td>...</td>\n      <td>...</td>\n      <td>...</td>\n      <td>...</td>\n      <td>...</td>\n      <td>...</td>\n      <td>...</td>\n      <td>...</td>\n      <td>...</td>\n      <td>...</td>\n    </tr>\n    <tr>\n      <th>100589</th>\n      <td>5</td>\n      <td>4.690000</td>\n      <td>-73.994766</td>\n      <td>40.734509</td>\n      <td>1</td>\n      <td>N</td>\n      <td>-73.964279</td>\n      <td>40.680439</td>\n      <td>17.5</td>\n      <td>0.5</td>\n      <td>0.5</td>\n      <td>3.00</td>\n      <td>0.00</td>\n      <td>21.799999</td>\n      <td>2</td>\n      <td>2015-08-31 23:58:09</td>\n      <td>2015-09-01 00:17:23</td>\n      <td>1</td>\n      <td>0.3</td>\n    </tr>\n    <tr>\n      <th>100590</th>\n      <td>4</td>\n      <td>7.630000</td>\n      <td>-73.981232</td>\n      <td>40.763920</td>\n      <td>1</td>\n      <td>N</td>\n      <td>-74.005219</td>\n      <td>40.676895</td>\n      <td>28.0</td>\n      <td>0.5</td>\n      <td>0.5</td>\n      <td>5.86</td>\n      <td>0.00</td>\n      <td>35.160000</td>\n      <td>2</td>\n      <td>2015-08-31 23:58:32</td>\n      <td>2015-09-01 00:31:53</td>\n      <td>1</td>\n      <td>0.3</td>\n    </tr>\n    <tr>\n      <th>100591</th>\n      <td>6</td>\n      <td>17.360001</td>\n      <td>-73.789497</td>\n      <td>40.646790</td>\n      <td>2</td>\n      <td>N</td>\n      <td>-73.979362</td>\n      <td>40.761463</td>\n      <td>52.0</td>\n      <td>0.0</td>\n      <td>0.5</td>\n      <td>11.67</td>\n      <td>5.54</td>\n      <td>70.010002</td>\n      <td>2</td>\n      <td>2015-08-31 23:58:44</td>\n      <td>2015-09-01 00:31:08</td>\n      <td>1</td>\n      <td>0.3</td>\n    </tr>\n    <tr>\n      <th>100592</th>\n      <td>1</td>\n      <td>1.800000</td>\n      <td>-73.991005</td>\n      <td>40.756367</td>\n      <td>1</td>\n      <td>N</td>\n      <td>-73.980530</td>\n      <td>40.780071</td>\n      <td>8.5</td>\n      <td>0.5</td>\n      <td>0.5</td>\n      <td>1.95</td>\n      <td>0.00</td>\n      <td>11.750000</td>\n      <td>1</td>\n      <td>2015-08-31 23:59:11</td>\n      <td>2015-09-01 00:07:13</td>\n      <td>1</td>\n      <td>0.3</td>\n    </tr>\n    <tr>\n      <th>100593</th>\n      <td>1</td>\n      <td>4.900000</td>\n      <td>-73.979637</td>\n      <td>40.760952</td>\n      <td>1</td>\n      <td>N</td>\n      <td>-73.951477</td>\n      <td>40.724773</td>\n      <td>18.5</td>\n      <td>0.5</td>\n      <td>0.5</td>\n      <td>4.95</td>\n      <td>0.00</td>\n      <td>24.750000</td>\n      <td>1</td>\n      <td>2015-08-31 23:59:42</td>\n      <td>2015-09-01 00:20:46</td>\n      <td>1</td>\n      <td>0.3</td>\n    </tr>\n  </tbody>\n</table>\n<p>30178 rows × 19 columns</p>\n</div>"
     },
     "execution_count": 50,
     "metadata": {},
     "output_type": "execute_result"
    }
   ],
   "source": [
    "df.iloc[split_idx:]"
   ],
   "metadata": {
    "collapsed": false,
    "ExecuteTime": {
     "end_time": "2023-10-13T07:57:57.499312900Z",
     "start_time": "2023-10-13T07:57:57.473096500Z"
    }
   },
   "id": "a5751adbe5d18f45"
  },
  {
   "cell_type": "code",
   "execution_count": 51,
   "outputs": [],
   "source": [
    "train_set, test_set = df.iloc[:split_idx], df.iloc[split_idx:]"
   ],
   "metadata": {
    "collapsed": false,
    "ExecuteTime": {
     "end_time": "2023-10-13T07:57:57.499312900Z",
     "start_time": "2023-10-13T07:57:57.489796Z"
    }
   },
   "id": "895579a8ab888366"
  },
  {
   "cell_type": "code",
   "execution_count": 52,
   "outputs": [
    {
     "name": "stdout",
     "output_type": "stream",
     "text": [
      "Raw size: 100594\n",
      "Training size: 70416\n",
      "Test size: 30178\n"
     ]
    }
   ],
   "source": [
    "print(f\"Raw size: {len(df)}\")\n",
    "print(f\"Training size: {len(train_set)}\")\n",
    "print(f\"Test size: {len(test_set)}\")"
   ],
   "metadata": {
    "collapsed": false,
    "ExecuteTime": {
     "end_time": "2023-10-13T07:57:57.499312900Z",
     "start_time": "2023-10-13T07:57:57.497818900Z"
    }
   },
   "id": "d3d96282a27fcc70"
  },
  {
   "cell_type": "code",
   "execution_count": 55,
   "outputs": [],
   "source": [
    "train_set.to_parquet(path + 'train_data.parquet')\n",
    "test_set.to_parquet(path + 'test_data.parquet')"
   ],
   "metadata": {
    "collapsed": false,
    "ExecuteTime": {
     "end_time": "2023-10-13T07:58:27.055366400Z",
     "start_time": "2023-10-13T07:58:26.959307800Z"
    }
   },
   "id": "1ad8d75682f361b9"
  }
 ],
 "metadata": {
  "kernelspec": {
   "display_name": "Python 3",
   "language": "python",
   "name": "python3"
  },
  "language_info": {
   "codemirror_mode": {
    "name": "ipython",
    "version": 2
   },
   "file_extension": ".py",
   "mimetype": "text/x-python",
   "name": "python",
   "nbconvert_exporter": "python",
   "pygments_lexer": "ipython2",
   "version": "2.7.6"
  }
 },
 "nbformat": 4,
 "nbformat_minor": 5
}
